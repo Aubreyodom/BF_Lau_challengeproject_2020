{
 "cells": [
  {
   "cell_type": "code",
   "execution_count": 1,
   "metadata": {},
   "outputs": [
    {
     "name": "stdout",
     "output_type": "stream",
     "text": [
      "Defaulting to user installation because normal site-packages is not writeable\n",
      "Requirement already satisfied: salmon in /usr4/spclpgm/aodom/.local/lib/python3.7/site-packages (0.2.0)\n",
      "Requirement already satisfied: gunicorn==18.0 in /usr4/spclpgm/aodom/.local/lib/python3.7/site-packages (from salmon) (18.0)\n",
      "Requirement already satisfied: whisper==0.9.10 in /usr4/spclpgm/aodom/.local/lib/python3.7/site-packages (from salmon) (0.9.10)\n",
      "Requirement already satisfied: dj-static==0.0.5 in /usr4/spclpgm/aodom/.local/lib/python3.7/site-packages (from salmon) (0.0.5)\n",
      "Requirement already satisfied: South==0.8.3 in /usr4/spclpgm/aodom/.local/lib/python3.7/site-packages (from salmon) (0.8.3)\n",
      "Requirement already satisfied: django==1.6.1 in /usr4/spclpgm/aodom/.local/lib/python3.7/site-packages (from salmon) (1.6.1)\n",
      "Requirement already satisfied: pytz in /share/pkg.7/python3/3.7.9/install/lib/python3.7/site-packages (from salmon) (2020.1)\n",
      "Requirement already satisfied: logan==0.5.9.1 in /usr4/spclpgm/aodom/.local/lib/python3.7/site-packages (from salmon) (0.5.9.1)\n",
      "Requirement already satisfied: djangorestframework==2.3.9 in /usr4/spclpgm/aodom/.local/lib/python3.7/site-packages (from salmon) (2.3.9)\n",
      "Requirement already satisfied: static in /usr4/spclpgm/aodom/.local/lib/python3.7/site-packages (from dj-static==0.0.5->salmon) (1.1.1)\n",
      "Requirement already satisfied: pystache in /share/pkg.7/python3/3.7.9/install/lib/python3.7/site-packages (from static->dj-static==0.0.5->salmon) (0.5.4)\n",
      "Note: you may need to restart the kernel to use updated packages.\n"
     ]
    }
   ],
   "source": [
    "pip install salmon"
   ]
  },
  {
   "cell_type": "code",
   "execution_count": 2,
   "metadata": {},
   "outputs": [
    {
     "name": "stdout",
     "output_type": "stream",
     "text": [
      "Defaulting to user installation because normal site-packages is not writeable\n",
      "Requirement already satisfied: pysam in /share/pkg.7/python3/3.7.9/install/lib/python3.7/site-packages (0.16.0.1)\n",
      "Note: you may need to restart the kernel to use updated packages.\n"
     ]
    }
   ],
   "source": [
    "pip install pysam"
   ]
  },
  {
   "cell_type": "code",
   "execution_count": null,
   "metadata": {},
   "outputs": [],
   "source": []
  }
 ],
 "metadata": {
  "kernelspec": {
   "display_name": "Python 3",
   "language": "python",
   "name": "python3"
  },
  "language_info": {
   "codemirror_mode": {
    "name": "ipython",
    "version": 3
   },
   "file_extension": ".py",
   "mimetype": "text/x-python",
   "name": "python",
   "nbconvert_exporter": "python",
   "pygments_lexer": "ipython3",
   "version": "3.7.9"
  }
 },
 "nbformat": 4,
 "nbformat_minor": 4
}
